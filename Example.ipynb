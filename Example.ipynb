{
 "cells": [
  {
   "cell_type": "code",
   "execution_count": 1,
   "id": "b9da8c5f",
   "metadata": {},
   "outputs": [],
   "source": [
    "import numpy as np\n",
    "from numpy import linalg as lin\n",
    "import random as rn\n",
    "\n",
    "import matplotlib.pyplot as plt"
   ]
  },
  {
   "cell_type": "code",
   "execution_count": 2,
   "id": "39a31652",
   "metadata": {},
   "outputs": [],
   "source": [
    "import triad_utils as tu"
   ]
  },
  {
   "cell_type": "code",
   "execution_count": 3,
   "id": "13ec4e92",
   "metadata": {},
   "outputs": [
    {
     "name": "stdout",
     "output_type": "stream",
     "text": [
      "triad_census(matrix)\n",
      "random_adj_matrix(N,p)\n",
      "edge_list(adjacency_matrix)\n",
      "adjacency_matrix(edge_list,size)\n",
      "swap_edges(edge_list)\n",
      "randomize(matrix,iterations)\n",
      "triad_significance_profile(matrix, ensemble_size, edge_randomizations):\n",
      "functions()\n",
      "\n"
     ]
    }
   ],
   "source": [
    "tu.functions()"
   ]
  },
  {
   "cell_type": "code",
   "execution_count": 4,
   "id": "a3a9cb9a",
   "metadata": {},
   "outputs": [],
   "source": [
    "matrix = tu.random_adj_matrix(20,.3)"
   ]
  },
  {
   "cell_type": "code",
   "execution_count": 5,
   "id": "5dc7d95a-67ca-4c42-b2ae-f4f19fcf9a63",
   "metadata": {},
   "outputs": [
    {
     "name": "stdout",
     "output_type": "stream",
     "text": [
      "[[0 1 0 1 0 1 0 0 0 0 0 0 0 0 0 0 0 0 1 0]\n",
      " [1 0 0 0 0 0 0 1 0 0 0 0 0 0 0 1 1 0 0 0]\n",
      " [1 1 0 1 1 1 0 0 1 0 0 0 1 0 0 0 0 1 0 1]\n",
      " [1 0 0 0 0 0 0 0 1 0 0 0 1 0 0 0 1 0 0 0]\n",
      " [0 0 1 0 0 1 0 0 0 0 0 0 0 0 0 1 1 0 0 1]\n",
      " [0 0 0 1 0 0 0 0 0 0 0 0 0 1 0 0 1 1 0 0]\n",
      " [0 0 0 0 0 0 0 0 0 0 0 0 0 1 1 0 0 0 1 1]\n",
      " [1 1 0 0 0 0 0 0 0 0 0 0 0 0 0 0 1 0 0 0]\n",
      " [0 1 1 0 0 0 0 0 0 0 0 0 0 0 0 1 1 1 0 0]\n",
      " [0 1 1 0 0 0 1 1 0 0 0 1 1 1 1 0 1 0 0 0]\n",
      " [0 0 1 1 0 1 0 0 0 0 0 0 1 0 1 1 0 1 0 0]\n",
      " [0 0 0 1 0 0 0 1 0 0 0 0 1 1 0 0 0 0 0 0]\n",
      " [0 1 0 0 1 0 0 0 1 0 1 0 0 0 1 0 0 0 0 0]\n",
      " [0 0 0 0 1 0 0 1 0 0 0 1 1 0 0 0 0 0 0 0]\n",
      " [0 0 0 1 1 1 0 1 1 0 1 1 1 0 0 0 0 1 1 0]\n",
      " [1 0 1 0 0 0 0 1 1 0 0 1 0 1 0 0 0 0 0 1]\n",
      " [0 0 0 1 0 1 1 0 0 0 0 0 0 0 0 0 0 1 0 0]\n",
      " [1 0 1 0 0 0 0 0 0 0 1 0 1 0 0 1 0 0 0 0]\n",
      " [0 1 0 0 1 1 0 0 0 1 0 0 0 0 0 1 0 0 0 0]\n",
      " [0 1 0 0 0 1 0 0 0 0 1 0 1 1 0 0 0 0 1 0]]\n"
     ]
    }
   ],
   "source": [
    "print(matrix)"
   ]
  },
  {
   "cell_type": "code",
   "execution_count": 6,
   "id": "73fcebdd",
   "metadata": {},
   "outputs": [
    {
     "data": {
      "text/plain": [
       "array([ 89,  71, 155,  71,  47,   4,  63,  15,   8,  14,  19,   7,   1])"
      ]
     },
     "execution_count": 6,
     "metadata": {},
     "output_type": "execute_result"
    }
   ],
   "source": [
    "c = tu.triad_census(matrix)\n",
    "c"
   ]
  },
  {
   "cell_type": "code",
   "execution_count": 7,
   "id": "24192a93",
   "metadata": {},
   "outputs": [],
   "source": [
    "n_edges = len(tu.edge_list(matrix))\n",
    "random_matrix = tu.randomize(matrix,10*n_edges)"
   ]
  },
  {
   "cell_type": "code",
   "execution_count": 8,
   "id": "0c5e0270",
   "metadata": {},
   "outputs": [
    {
     "data": {
      "text/plain": [
       "array([ 88,  68, 149,  62,  53,  10,  56,  16,  20,   9,  16,   7,   0])"
      ]
     },
     "execution_count": 8,
     "metadata": {},
     "output_type": "execute_result"
    }
   ],
   "source": [
    "tu.triad_census(random_matrix)"
   ]
  },
  {
   "cell_type": "code",
   "execution_count": 9,
   "id": "c35436b9",
   "metadata": {},
   "outputs": [],
   "source": [
    "ensemble_size = 100\n",
    "edge_rand_iterations = 100*len(tu.edge_list(matrix))\n",
    "r1 = tu.triad_significance_profile(matrix, ensemble_size, edge_rand_iterations)"
   ]
  },
  {
   "cell_type": "code",
   "execution_count": 13,
   "id": "57d29fec",
   "metadata": {},
   "outputs": [
    {
     "data": {
      "image/png": "[encoded data removed]",
      "text/plain": [
       "<Figure size 432x288 with 1 Axes>"
      ]
     },
     "metadata": {
      "needs_background": "light"
     },
     "output_type": "display_data"
    }
   ],
   "source": [
    "t = np.arange(1,14)\n",
    "plt.plot(t,r1,'-o')\n",
    "plt.plot([0,14],[0,0],'--k')\n",
    "plt.xticks(t)\n",
    "plt.show()"
   ]
  },
  {
   "cell_type": "code",
   "execution_count": null,
   "id": "c5e781d7",
   "metadata": {},
   "outputs": [],
   "source": []
  }
 ],
 "metadata": {
  "kernelspec": {
   "display_name": "Python 3 (ipykernel)",
   "language": "python",
   "name": "python3"
  },
  "language_info": {
   "codemirror_mode": {
    "name": "ipython",
    "version": 3
   },
   "file_extension": ".py",
   "mimetype": "text/x-python",
   "name": "python",
   "nbconvert_exporter": "python",
   "pygments_lexer": "ipython3",
   "version": "3.9.5"
  }
 },
 "nbformat": 4,
 "nbformat_minor": 5
}
